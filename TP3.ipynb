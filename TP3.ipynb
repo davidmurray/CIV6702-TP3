{
 "cells": [
  {
   "cell_type": "code",
   "execution_count": 1,
   "id": "bb500ef3",
   "metadata": {},
   "outputs": [],
   "source": [
    "import pandas as pd\n",
    "import matplotlib.pyplot as plt\n",
    "import numpy as np\n",
    "plt.style.use(\"seaborn\")\n",
    "import requests\n",
    "from pyproj import Proj, transform\n",
    "import tqdm\n",
    "import concurrent.futures\n",
    "import requests\n",
    "import time\n"
   ]
  },
  {
   "cell_type": "markdown",
   "id": "79e9193f",
   "metadata": {},
   "source": [
    "# Load data"
   ]
  },
  {
   "cell_type": "code",
   "execution_count": 7,
   "id": "f3ae1f64",
   "metadata": {},
   "outputs": [],
   "source": [
    "boucherville_2013 = pd.read_csv(\"data/OD13_amtSm_309.csv\")\n",
    "longueuilEst_2013 = pd.read_csv(\"data/OD13_amtSm_302.csv\")\n",
    "saintBruno_2013 = pd.read_csv(\"data/OD13_amtSm_310.csv\")\n",
    "#suburb = pd.concat([boucherville_2013, longueuilEst_2013, saintBruno_2013])\n",
    "suburb = pd.read_csv(\"data/OD13_suburb_with_walkscore.csv\")\n",
    "suburb.title = \"Banlieue\"\n",
    "\n",
    "#montrealNord = pd.read_csv(\"data/OD13_amtSm_118.csv\")\n",
    "montrealNord = pd.read_csv(\"data/OD13_montrealNord_with_walkscore.csv\")\n",
    "montrealNord.title = \"Montréal-Nord\"\n",
    "\n",
    "#plateau = pd.read_csv(\"data/OD13_amtSm_106.csv\")\n",
    "montrealNord = pd.read_csv(\"data/OD13_plateau_with_walkscore.csv\")\n",
    "plateau.title = \"Le Plateau Mont-Royal\"\n",
    "\n",
    "EPOI_2013_Boucherville = pd.read_csv(\"data/EPOI2013Sm_309.csv\")"
   ]
  },
  {
   "cell_type": "code",
   "execution_count": 8,
   "id": "62f5665b",
   "metadata": {},
   "outputs": [],
   "source": [
    "# NAD 83 to lat long\n",
    "from pyproj import Transformer\n",
    "transformer = Transformer.from_crs(\"epsg:32188\", \"epsg:4326\", always_xy=True)"
   ]
  },
  {
   "cell_type": "markdown",
   "id": "c7e01737",
   "metadata": {},
   "source": [
    "## WalkScore"
   ]
  },
  {
   "cell_type": "code",
   "execution_count": 9,
   "id": "9d8299db",
   "metadata": {},
   "outputs": [],
   "source": [
    "exit_early = True"
   ]
  },
  {
   "cell_type": "code",
   "execution_count": 10,
   "id": "39af5f75",
   "metadata": {},
   "outputs": [],
   "source": [
    "def load_url(url, feuillet_id, timeout=20):\n",
    "    ans = requests.get(url, timeout=timeout)\n",
    "    json_output = ans.json()\n",
    "    #json_output = {\"walkscore\": feuillet_id}\n",
    "    return feuillet_id, ans, json_output\n",
    "\n",
    "def calculate_walk_score(df, exit_early=True):\n",
    "    futures = []\n",
    "    \n",
    "    if exit_early:\n",
    "        return\n",
    "    warning = input(\"Warning!!! Are you sure ? \").lower()\n",
    "\n",
    "    if warning != \"y\":\n",
    "        print(\"bye\")\n",
    "        return\n",
    "\n",
    "    feuillet_ids = df.feuillet.unique()\n",
    "    with tqdm.tqdm(total=len(feuillet_ids)) as progress_bar:\n",
    "        with concurrent.futures.ThreadPoolExecutor(max_workers=9) as executor:\n",
    "            for feuillet_id in feuillet_ids:                \n",
    "                x_domi = (df[df.feuillet == feuillet_id].xdomi).iloc[0]\n",
    "                y_domi = (df[df.feuillet == feuillet_id].ydomi).iloc[0]\n",
    "                x_domi, y_domi = transformer.transform(int(x_domi), int(y_domi))\n",
    "                rows = df[df.feuillet == feuillet_id]\n",
    "                url = f\"https://api.walkscore.com/score?format=json&transit=1&bike=1&lon={x_domi}&lat={y_domi}&wsapikey=2845bc34690754d7389df25eabeb8ce9\"\n",
    "                #url = \"https://jsonplaceholder.typicode.com/todos/1\"\n",
    "                futures.append(executor.submit(load_url, url, feuillet_id))\n",
    "\n",
    "            for future in concurrent.futures.as_completed(futures):\n",
    "                feuillet_id, ans, json_resp = future.result()\n",
    "                if ans.status_code != 200:\n",
    "                    print(f\"{feuillet_id}, {json_resp}\")\n",
    "\n",
    "                walk_score = json_resp.get(\"walkscore\", -1)\n",
    "                bike_score = json_resp.get(\"bike\", {}).get(\"score\", -1)\n",
    "                transit_score = json_resp.get(\"transit\", {}).get(\"score\", -1)\n",
    "\n",
    "                # Store the data\n",
    "                df.loc[df.feuillet == feuillet_id, 'walkscore'] = walk_score\n",
    "                df.loc[df.feuillet == feuillet_id, 'bikescore'] = bike_score\n",
    "                df.loc[df.feuillet == feuillet_id, 'transitscore'] = transit_score\n",
    "\n",
    "                progress_bar.update(1)\n"
   ]
  },
  {
   "cell_type": "code",
   "execution_count": 11,
   "id": "5a0465ab",
   "metadata": {},
   "outputs": [],
   "source": [
    "calculate_walk_score(suburb, exit_early=exit_early)\n",
    "#suburb.to_csv(\"data/OD13_suburb_with_walkscore.csv\")"
   ]
  },
  {
   "cell_type": "code",
   "execution_count": 135,
   "id": "ea7a9c11",
   "metadata": {},
   "outputs": [
    {
     "name": "stdout",
     "output_type": "stream",
     "text": [
      "Warning!!! Are you sure ? y\n"
     ]
    },
    {
     "name": "stderr",
     "output_type": "stream",
     "text": [
      "100%|█████████████████████████████████████████████████████████████████████████████████████████████████████████████████████████████████████| 1475/1475 [01:31<00:00, 16.12it/s]\n"
     ]
    }
   ],
   "source": [
    "calculate_walk_score(montrealNord, exit_early=exit_early)\n",
    "#montrealNord.to_csv(\"data/OD13_montrealNord_with_walkscore.csv\")"
   ]
  },
  {
   "cell_type": "code",
   "execution_count": 136,
   "id": "ad64bfc8",
   "metadata": {},
   "outputs": [
    {
     "name": "stdout",
     "output_type": "stream",
     "text": [
      "Warning!!! Are you sure ? y\n"
     ]
    },
    {
     "name": "stderr",
     "output_type": "stream",
     "text": [
      "100%|█████████████████████████████████████████████████████████████████████████████████████████████████████████████████████████████████████| 1946/1946 [02:08<00:00, 15.20it/s]\n"
     ]
    }
   ],
   "source": [
    "calculate_walk_score(plateau, exit_early=exit_early)\n",
    "#plateau.to_csv(\"data/OD13_plateau_with_walkscore.csv\")"
   ]
  },
  {
   "cell_type": "code",
   "execution_count": 132,
   "id": "f8f0851f",
   "metadata": {},
   "outputs": [],
   "source": [
    "# for f_id in list(suburb.feuillet.unique()):\n",
    "#     rows = suburb[suburb.feuillet == f_id]\n",
    "#     if len(rows[\"bikescore\"].unique()) != 1:\n",
    "#         print(\"WAT\")"
   ]
  },
  {
   "cell_type": "markdown",
   "id": "50743a59",
   "metadata": {},
   "source": [
    "# Démographie"
   ]
  },
  {
   "cell_type": "code",
   "execution_count": 4,
   "id": "049e1f83",
   "metadata": {},
   "outputs": [
    {
     "data": {
      "text/plain": [
       "Text(0.5, 1.0, \"Distribution de l'âge de la population\")"
      ]
     },
     "execution_count": 4,
     "metadata": {},
     "output_type": "execute_result"
    },
    {
     "data": {
      "image/png": "[encoded data removed]",
      "text/plain": [
       "<Figure size 600x450 with 1 Axes>"
      ]
     },
     "metadata": {},
     "output_type": "display_data"
    }
   ],
   "source": [
    "suburb_people = suburb[suburb[\"f_pers\"] == 'T']\n",
    "suburb_people.title = \"Banlieue\"\n",
    "\n",
    "age_bins = [0, 10, 20, 30, 40, 50, 60, 70, 80, 90, 100]\n",
    "\n",
    "total_facper = suburb_people.facper.sum()\n",
    "plt.figure(figsize=(4, 3), dpi=150)\n",
    "suburb_people.age.hist(weights=suburb_people.facper / total_facper * 100, bins=age_bins, rwidth=0.95)\n",
    "_ = plt.xticks(age_bins)\n",
    "plt.xlabel(\"Âge\")\n",
    "plt.ylabel(\"Proportion de la population\")\n",
    "plt.title(\"Distribution de l'âge de la population\")"
   ]
  },
  {
   "cell_type": "markdown",
   "id": "4ad506d1",
   "metadata": {},
   "source": [
    "# Typologies"
   ]
  },
  {
   "cell_type": "markdown",
   "id": "29a4c3fd",
   "metadata": {},
   "source": [
    "## Personnes"
   ]
  },
  {
   "cell_type": "code",
   "execution_count": 5,
   "id": "5c80e8b2",
   "metadata": {},
   "outputs": [],
   "source": [
    "def pers_typology(df, typology_number):\n",
    "    if typology_number == 1:   # Typologie 1: femmes, 20-29 ans, pas de permis\n",
    "        return df[(df.f_pers == \"T\") \n",
    "            & (df.genre == 1) \n",
    "            & (df.p_statut == 1) \n",
    "            & (df.age >= 60) \n",
    "            & (df.age <= 69)\n",
    "            & (df.permis == 1)]\n",
    "    elif typology_number == 2: # Typologie 2: hommes, 20-29 ans, étudiants\n",
    "        return df[(df.f_pers == \"T\") \n",
    "            & (df.genre == 1) \n",
    "            & (df.p_statut == 3) \n",
    "            & (df.age >= 20) \n",
    "            & (df.age <= 29)]\n",
    "    elif typology_number == 3: # Typologie 3: hommes, 60-69 ans, retraités\n",
    "        return df[(df.f_pers == \"T\") \n",
    "            & (df.genre == 1) \n",
    "            & (df.p_statut == 4) \n",
    "            & (df.age >= 60) \n",
    "            & (df.age <= 69)]\n",
    "    elif typology_number == 4: # Typologie 4: femmes, 40-49 ans, travailleuses à temps plein\n",
    "        return df[(df.f_pers == \"T\") \n",
    "            & (df.genre == 2) \n",
    "            & (df.p_statut == 1) \n",
    "            & (df.age >= 40) \n",
    "            & (df.age <= 49)]\n",
    "    elif typology_number == 5: # Typologie 5: femmes, 10-19 ans, étudiantes, pas de permis\n",
    "        return df[(df.f_pers == \"T\") \n",
    "            & (df.genre == 2) \n",
    "            & (df.p_statut == 3) \n",
    "            & (df.age >= 10) \n",
    "            & (df.age <= 19)\n",
    "            & (df.permis == 2)]\n",
    "    elif typology_number == 6: # Typologie 6: Hommes, 60-69 ans, travailleurs à temps plein, avec permis\n",
    "        return df[(df.f_pers == \"T\") \n",
    "            & (df.genre == 1) \n",
    "            & (df.p_statut == 1) \n",
    "            & (df.age >= 60) \n",
    "            & (df.age <= 69)\n",
    "            & (df.permis == 1)]"
   ]
  },
  {
   "cell_type": "code",
   "execution_count": 6,
   "id": "56779f1a",
   "metadata": {},
   "outputs": [],
   "source": [
    "def calculate_pers_typology_obs_size(df):\n",
    "    print(f\"=== {df.title} ===\")\n",
    "    # Make sure this is only the people DB\n",
    "    df_ = df[df[\"f_pers\"] == 'T']\n",
    "    \n",
    "    for i in [1, 2, 3, 4, 5, 6]:\n",
    "        facper_share = pers_typology(df_, i).facper.sum() / df_.facper.sum()\n",
    "        print(f\"Typologie {i}: {len(pers_typology(df_, i))} {facper_share * 100:0.2f} %\")"
   ]
  },
  {
   "cell_type": "code",
   "execution_count": 7,
   "id": "0cd1c4d4",
   "metadata": {},
   "outputs": [
    {
     "name": "stdout",
     "output_type": "stream",
     "text": [
      "=== Banlieue ===\n",
      "Typologie 1: 102 1.49 %\n",
      "Typologie 2: 104 2.35 %\n",
      "Typologie 3: 295 3.77 %\n",
      "Typologie 4: 346 6.38 %\n",
      "Typologie 5: 83 1.46 %\n",
      "Typologie 6: 102 1.49 %\n",
      "=== Montréal-Nord ===\n",
      "Typologie 1: 40 0.97 %\n",
      "Typologie 2: 38 1.66 %\n",
      "Typologie 3: 119 2.58 %\n",
      "Typologie 4: 135 4.07 %\n",
      "Typologie 5: 49 1.70 %\n",
      "Typologie 6: 40 0.97 %\n",
      "=== Le Plateau Mont-Royal ===\n",
      "Typologie 1: 58 1.01 %\n",
      "Typologie 2: 90 3.78 %\n",
      "Typologie 3: 131 2.27 %\n",
      "Typologie 4: 230 4.53 %\n",
      "Typologie 5: 62 1.07 %\n",
      "Typologie 6: 58 1.01 %\n"
     ]
    }
   ],
   "source": [
    "calculate_pers_typology_obs_size(suburb)\n",
    "calculate_pers_typology_obs_size(montrealNord)\n",
    "calculate_pers_typology_obs_size(plateau)"
   ]
  },
  {
   "cell_type": "markdown",
   "id": "62e1fd0b",
   "metadata": {},
   "source": [
    "## Ménages"
   ]
  },
  {
   "cell_type": "code",
   "execution_count": 128,
   "id": "6e49603e",
   "metadata": {},
   "outputs": [],
   "source": [
    "def add_children_column(df):\n",
    "    for feuillet_id in df.feuillet.unique():\n",
    "        rows = df[df.feuillet == feuillet_id]\n",
    "        people_in_household = rows[rows.f_pers == \"T\"]\n",
    "        children_count = len(people_in_household[people_in_household.age <= 17])\n",
    "        df.loc[df.feuillet == feuillet_id, 'children'] = children_count\n",
    "    df['children'] = df['children'].astype(int)\n",
    "def add_drivers_column(df):\n",
    "    for feuillet_id in df.feuillet.unique():\n",
    "        rows = df[df.feuillet == feuillet_id]\n",
    "        people_in_household = rows[rows.f_pers == \"T\"]\n",
    "        drivers_count = len(people_in_household[people_in_household.permis == 1])\n",
    "        df.loc[df.feuillet == feuillet_id, 'drivers'] = drivers_count\n",
    "\n",
    "    df['drivers'] = df['drivers'].astype(int)\n",
    "def add_retired_column(df):\n",
    "    for feuillet_id in df.feuillet.unique():\n",
    "        rows = df[df.feuillet == feuillet_id]\n",
    "        people_in_household = rows[rows.f_pers == \"T\"]\n",
    "        retired_count = len(people_in_household[people_in_household.p_statut == 4])\n",
    "        df.loc[df.feuillet == feuillet_id, 'retired'] = retired_count\n",
    "    df['retired'] = df['retired'].astype(int)\n",
    "for df in [suburb, montrealNord, plateau]:\n",
    "    add_children_column(df)\n",
    "    add_drivers_column(df)\n",
    "    add_retired_column(df)\n"
   ]
  },
  {
   "cell_type": "code",
   "execution_count": 9,
   "id": "11de9bd2",
   "metadata": {},
   "outputs": [],
   "source": [
    "def menages_typology(df, typology):\n",
    "    if typology == 1: # Typologie 1: min 1 enfant, pas d'automobiles\n",
    "        return df[(df.f_menage == \"T\") \n",
    "                & (df.children >= 1)\n",
    "                & (df.autologi == 0)\n",
    "                ]\n",
    "    elif typology == 2: # Typologie 2: 4+ logis, 2 enfants+, 2 autos+\n",
    "        return df[(df.f_menage == \"T\")\n",
    "                & (df.perslogi >= 2)\n",
    "                & (df.children >= 2)\n",
    "                & (df.autologi >= 2)\n",
    "                ]\n",
    "    elif typology == 3: # Typologie 3: Full car access : Nb drivers = Nb automobiles\n",
    "        return df[(df.f_menage == \"T\") \n",
    "                & (df.autologi == df.drivers)\n",
    "                ]\n",
    "    elif typology == 4: # Typologie 4: \"The seemingly rich\" : >cars than drivers\n",
    "        return df[(df.f_menage == \"T\") \n",
    "                & (df.autologi > df.drivers)\n",
    "                ]\n",
    "    elif typology == 5: # Typologie 5: Couples sans enfants (ou colocataires)\n",
    "        return df[(df.f_menage == \"T\") \n",
    "                & (df.children == 0)\n",
    "                & (df.perslogi == 2)\n",
    "                ]\n",
    "    elif typology == 6: # Typologie 6: Couple de retraités ayant chacun un permis de conduire\n",
    "        return df[(df.f_menage == \"T\") \n",
    "                & (df.perslogi == 2)\n",
    "                & (df.retired == 2)\n",
    "                & (df.drivers == 2)\n",
    "                ]"
   ]
  },
  {
   "cell_type": "code",
   "execution_count": 10,
   "id": "cf7b236e",
   "metadata": {},
   "outputs": [],
   "source": [
    "def calculate_household_typology_obs_size(df):\n",
    "    print(f\"=== {df.title} ===\")\n",
    "    # Make sure this is only the household DB\n",
    "    df_ = df[df[\"f_menage\"] == 'T']\n",
    "    \n",
    "    for i in [1, 2, 3, 4, 5, 6]:\n",
    "        fshare = menages_typology(df_, i).faclog.sum() / df_.faclog.sum()\n",
    "        print(f\"Typologie {i}: {len(menages_typology(df_, i))} {round(fshare * 100, 2):0.2f} %\")"
   ]
  },
  {
   "cell_type": "code",
   "execution_count": 11,
   "id": "b379308b",
   "metadata": {},
   "outputs": [
    {
     "name": "stdout",
     "output_type": "stream",
     "text": [
      "=== Banlieue ===\n",
      "Typologie 1: 41 2.01 %\n",
      "Typologie 2: 343 13.29 %\n",
      "Typologie 3: 1175 50.16 %\n",
      "Typologie 4: 233 9.70 %\n",
      "Typologie 5: 778 27.55 %\n",
      "Typologie 6: 237 7.88 %\n",
      "=== Montréal-Nord ===\n",
      "Typologie 1: 54 4.00 %\n",
      "Typologie 2: 68 4.55 %\n",
      "Typologie 3: 1023 69.43 %\n",
      "Typologie 4: 59 4.25 %\n",
      "Typologie 5: 461 27.03 %\n",
      "Typologie 6: 87 4.60 %\n",
      "=== Le Plateau Mont-Royal ===\n",
      "Typologie 1: 106 3.91 %\n",
      "Typologie 2: 23 0.66 %\n",
      "Typologie 3: 892 47.89 %\n",
      "Typologie 4: 40 2.14 %\n",
      "Typologie 5: 571 29.01 %\n",
      "Typologie 6: 46 1.82 %\n"
     ]
    }
   ],
   "source": [
    "calculate_household_typology_obs_size(suburb)\n",
    "calculate_household_typology_obs_size(montrealNord)\n",
    "calculate_household_typology_obs_size(plateau)"
   ]
  },
  {
   "cell_type": "markdown",
   "id": "7d870aad",
   "metadata": {},
   "source": [
    "## Voisinages"
   ]
  },
  {
   "cell_type": "code",
   "execution_count": 12,
   "id": "d8cf02bc",
   "metadata": {},
   "outputs": [
    {
     "name": "stdout",
     "output_type": "stream",
     "text": [
      "0    309320\n",
      "Name: xdomi, dtype: int64 0    5050582\n",
      "Name: ydomi, dtype: int64\n",
      "-73.44206505103081 45.59512804406428\n"
     ]
    }
   ],
   "source": [
    "def calc(df):\n",
    "    master = df[df.f_menage == \"T\"]\n",
    "    for feuillet_id in master.feuillet.unique():\n",
    "        x_domi = master[master.feuillet == feuillet_id].xdomi\n",
    "        y_domi = master[master.feuillet == feuillet_id].ydomi\n",
    "        print(x_domi, y_domi)\n",
    "\n",
    "        x_domi, y_domi = transformer.transform(int(x_domi), int(y_domi))\n",
    "        print(x_domi, y_domi)\n",
    "        break\n",
    "        rows = df[df.feuillet == feuillet_id]\n",
    "\n",
    "        #for idx in rows.index:\n",
    "        #    df.at[idx, 'drivers'] = drivers_count\n",
    "calc(suburb)"
   ]
  },
  {
   "cell_type": "code",
   "execution_count": 13,
   "id": "ecd9cf0c",
   "metadata": {},
   "outputs": [
    {
     "data": {
      "text/plain": [
       "2    5051267\n",
       "Name: ydomi, dtype: int64"
      ]
     },
     "execution_count": 13,
     "metadata": {},
     "output_type": "execute_result"
    }
   ],
   "source": [
    "suburb[(suburb.feuillet == 1000282) & (suburb.f_menage == \"T\")].ydomi"
   ]
  },
  {
   "cell_type": "code",
   "execution_count": null,
   "id": "824fc73d",
   "metadata": {},
   "outputs": [],
   "source": []
  },
  {
   "cell_type": "code",
   "execution_count": null,
   "id": "2b117db9",
   "metadata": {},
   "outputs": [],
   "source": []
  }
 ],
 "metadata": {
  "kernelspec": {
   "display_name": "Python 3 (ipykernel)",
   "language": "python",
   "name": "python3"
  },
  "language_info": {
   "codemirror_mode": {
    "name": "ipython",
    "version": 3
   },
   "file_extension": ".py",
   "mimetype": "text/x-python",
   "name": "python",
   "nbconvert_exporter": "python",
   "pygments_lexer": "ipython3",
   "version": "3.9.10"
  }
 },
 "nbformat": 4,
 "nbformat_minor": 5
}
